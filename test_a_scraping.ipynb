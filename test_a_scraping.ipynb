{
 "cells": [
  {
   "cell_type": "code",
   "execution_count": 9,
   "metadata": {},
   "outputs": [],
   "source": [
    "from bs4 import BeautifulSoup as bs\n",
    "import requests\n",
    "from pprint import pprint\n",
    "import pandas as pd\n",
    "\n"
   ]
  },
  {
   "cell_type": "code",
   "execution_count": 16,
   "metadata": {},
   "outputs": [
    {
     "name": "stdout",
     "output_type": "stream",
     "text": [
      "['70', '17', '7', '3', '3']\n"
     ]
    }
   ],
   "source": [
    "book_urls = [\"https://www.amazon.com/1984-Signet-Classics-George-Orwell/dp/0451524934\"]\n",
    "\n",
    "amazon_books = []\n",
    "count = 1\n",
    "\n",
    "for url in book_urls:\n",
    "    # print(url)\n",
    "    \n",
    "        response = requests.get(url)\n",
    "        soup = bs(response.text, 'lxml')\n",
    "        summary = soup.find(\"div\", id=\"reviewSummary\")\n",
    "        all_ratings=[]\n",
    "\n",
    "        total_review_count = int(summary.find(\"span\", class_=\"a-size-medium totalReviewCount\").text.replace(\",\",\"\"))\n",
    "        averge_rating_text = summary.find(\"span\", class_=\"arp-rating-out-of-text\").text\n",
    "        averge_rating = averge_rating_text.split(\" \")[0]\n",
    "\n",
    "        star_ratings = summary.find_all(\"td\", class_=\"a-text-right aok-nowrap\")\n",
    "\n",
    "\n",
    "        for star_rating in star_ratings:\n",
    "\n",
    "                rating = star_rating.text.split(\"%\")[0]\n",
    "                all_ratings.append(rating)\n",
    "        print(all_ratings)"
   ]
  },
  {
   "cell_type": "code",
   "execution_count": null,
   "metadata": {},
   "outputs": [],
   "source": []
  }
 ],
 "metadata": {
  "kernelspec": {
   "display_name": "Python 3",
   "language": "python",
   "name": "python3"
  },
  "language_info": {
   "codemirror_mode": {
    "name": "ipython",
    "version": 3
   },
   "file_extension": ".py",
   "mimetype": "text/x-python",
   "name": "python",
   "nbconvert_exporter": "python",
   "pygments_lexer": "ipython3",
   "version": "3.6.5"
  }
 },
 "nbformat": 4,
 "nbformat_minor": 2
}
