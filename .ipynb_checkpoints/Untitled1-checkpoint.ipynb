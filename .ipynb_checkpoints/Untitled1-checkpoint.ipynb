{
 "cells": [
  {
   "cell_type": "markdown",
   "metadata": {},
   "source": [
    "# Book Ratings: How the 100 non-fiction bestsellers are rated differently on Amazon from Goodreads"
   ]
  },
  {
   "cell_type": "code",
   "execution_count": null,
   "metadata": {},
   "outputs": [],
   "source": []
  },
  {
   "cell_type": "markdown",
   "metadata": {},
   "source": [
    "Goodreads is a community website for book lovers, where people share their opinions of various books, mark books as read or to read (,etc.) and connect with authors and other readers. As more book purchases are made online, the benefits of flipping through pages of a book in store before buying is becoming a luxury when we browse books online. Previewing books on Amazon gives a sneak peek into what goes into the book, but more often than not, we rely on reviews/ratings to choose among books we love. When we go to Amazon for books to buy, clicking through the reviews/ratings of buyers provides a convenient reference of how good the book is. However, ratings on Amazon can be biased, partly because book dealers/publishers/authors may pay to get 5 star ratings. Also, unsatisfied readers may be more inclined to leave 0 star reviews on Amazon out of complaint of their purchase, than on Goodreads. In this project, I scraped and compared book ratings on Amazon and Goodreads for the top 100 bestseller non-fiction books on Amazon.\n",
    "\n",
    "About Amazon book ratings:\n",
    "Amazon product ratings are for products only, and intended not to be confused with seller feedbacks. Thus the product ratings are mainly about the books, instead of shipping rate satisfaction, packaging, or customer services.\n",
    "\n",
    "Limitations:\n",
    "Amazon book reviews are for all formats of the book together -- audio books, kindle books, hard covers, paper backe, ect. Thus the review may also be influenced by formats of books, say, kindle formatting/publishing issues.\n",
    "\n",
    "Choice of books:\n",
    "I chose non-fiction bestsellers, mainly because I read mostly non-fiction books, so they are more familiar and make better analysis targets. Also, bestsellers tend to have more reviews than other books in general, so the dataset is larger.\n",
    "\n",
    "The range of ratings:\n",
    "Amazon and Goodreads ratings both go from 1 star to 5 stars.\n",
    "\n",
    "Positive:\n",
    "If a review is 4 star or 5 star, Amazon considers it to be positive.\n",
    "\n",
    "Other considerations:\n",
    "For Amazon buyers, the ratings are mainly for the purpose of telling other buyers \"Is this book worth buying?\" For Goodreads readers, the ratings are mostly for telling other readers \"Is this book worth reading?\" Thus prices may come into play when people leave a rating on Amazon, which may rarely be the case for Goodreads. Because of this, I expect the ratings on Amazon to be more polarized, to send a strong preference of buying/not buying signal from past buyers to future buyers.\n",
    "\n",
    "Also, ratings on Amazon are almost always anonymous, while on Goodreads people are often connected with friends/families on social media. Since updates of book ratings on Goodreads can be seen through notifications, people may be more conservative about giving polarized ratings unless the content is really great/terrible. The Goodreads ratings also suggest people's tastes and may affect how others think about them -- thus ratings in the middle ground may be given more often. Considering these ratings also help reviewers themselves to look back and tell which books they like or not (instead on Amazon, in a user's account, book reviews are mixed up with other categories), they may rate one star higher or lower to defferentiate a book from others they rated. Thus I expect to see the mid-range reviews (2,3,4 stars) more evenly distributed than in Amazon reviews."
   ]
  },
  {
   "cell_type": "markdown",
   "metadata": {},
   "source": [
    "Next time before you buy/read a book, which rating should you look at? \n",
    "If you are borrowing books from a library to read, should you look at the Amazon review, or the Goodreads one?\n",
    "It may not make that much difference if the book is a bestseller, but knowing how readers rate differently on both platforms will help you look at the ratings more objectively."
   ]
  },
  {
   "cell_type": "markdown",
   "metadata": {},
   "source": [
    "Hypothesis:\n",
    "Non-fiction bestseller books ratings \n",
    "1. On Amazon, average ratings of Non-fiction bestseller books is greater than Goodreads.\n",
    "2. On Amazon, the percentage of 5 star review of non-fiction bestseller books is greater than Goodreads.\n",
    "3. On Amazon, the percentage of 0 star review of non-fiction bestseller books is greater than Goodreads.\n",
    "4. Goodreads have a more flat distribution in mid-range reviews(2,3,4 stars) than Amazon.\n",
    "5. Goodreads have more mid-range reviews(2,3,4 stars) than Amazon."
   ]
  }
 ],
 "metadata": {
  "kernelspec": {
   "display_name": "PythonData",
   "language": "python",
   "name": "my_env"
  },
  "language_info": {
   "codemirror_mode": {
    "name": "ipython",
    "version": 3
   },
   "file_extension": ".py",
   "mimetype": "text/x-python",
   "name": "python",
   "nbconvert_exporter": "python",
   "pygments_lexer": "ipython3",
   "version": "3.6.5"
  }
 },
 "nbformat": 4,
 "nbformat_minor": 2
}
